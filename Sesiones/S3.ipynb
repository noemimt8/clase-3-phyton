{
 "cells": [
  {
   "cell_type": "markdown",
   "id": "1470c462",
   "metadata": {},
   "source": [
    "# Sesión 3 - Fundamentos de Python\n",
    "\n",
    "Jueves 20/10/2022"
   ]
  },
  {
   "cell_type": "markdown",
   "id": "0ac3be34",
   "metadata": {},
   "source": [
    "### Conda\n",
    "\n",
    "* Enlace de Conda: [Introduction a Conda](https://geohackweek.github.io/Introductory/01-conda-tutorial/)\n",
    "\n",
    "### Contenido\n",
    "\n",
    "* [Variables y constantes](#variables)\n",
    "* [Estructuras de control](#estructura)\n",
    "* [Arrays](#arrays)\n",
    "\n",
    "### Objetivo de la sesión\n",
    "- Conocer los fundamentos del lenguaje de programación Python"
   ]
  },
  {
   "cell_type": "markdown",
   "id": "ab6d8428",
   "metadata": {},
   "source": [
    "<a id=\"variables\"></a>\n",
    "### Variables y constantes\n",
    "\n",
    "Una **variable** es un lugar donde almacenar un dato, tiene un nombre, un valor y un tipo.\n",
    "\n",
    "Una **constante** es un valor fijo que no puede ser alterado.\n",
    "\n",
    "\n",
    "![image info](./Figure/Variable1.png)"
   ]
  },
  {
   "cell_type": "markdown",
   "id": "b1a384b2",
   "metadata": {},
   "source": [
    "### Importante\n",
    "Nombrando Variables\n",
    "\n",
    "![image info](./Figure/iden.png)\n",
    "\n",
    "\n",
    "Un nombre de variable se denomina identificador y tiene que seguir algunas reglas:\n",
    "\n",
    " - Las variables pueden tener letras (A-Z y a-z), dígitos (0-9) y guiones bajos.\n",
    " - No puede comenzar con un guión bajo (_) o un dígito.\n",
    " - No puede tener espacios en blanco ni signos como + y -, !, @, $, #, %.\n",
    " - No puede ser una palabra clave reservada para Python.\n",
    " - Los nombres de variables distinguen entre mayúsculas y minúsculas.\n",
    " \n",
    "El nombre de una variable puede estar formado por letras, dígitos y guiones bajos, pero no puede comenzar con un guión bajo o un dígito. Tampoco puede usar espacios en blanco o los signos + y - en un nombre.\n",
    "\n",
    "Tomemos algunos ejemplos de nombres de variables válidos:\n",
    "\n",
    " - fraude1\n",
    " - Explotar_2\n",
    " - trabajo_del_diablo\n",
    "\n",
    "Estos nombres no son válidos:\n",
    "\n",
    " - pasivo agresivo\n",
    " - 21 mentiras\n",
    " - fals@s\n",
    " \n",
    " A mayor detalle: https://docs.python.org/es/3/tutorial/"
   ]
  },
  {
   "cell_type": "code",
   "execution_count": 1,
   "id": "964e788d",
   "metadata": {},
   "outputs": [
    {
     "name": "stdout",
     "output_type": "stream",
     "text": [
      "Juan Carlos <class 'str'>\n"
     ]
    }
   ],
   "source": [
    "n = 'Juan Carlos'\n",
    "print(n, type(n))"
   ]
  },
  {
   "cell_type": "code",
   "execution_count": 2,
   "id": "f9923bb8",
   "metadata": {},
   "outputs": [
    {
     "data": {
      "text/plain": [
       "9"
      ]
     },
     "execution_count": 2,
     "metadata": {},
     "output_type": "execute_result"
    }
   ],
   "source": [
    "nombre = 9\n",
    "nombre"
   ]
  },
  {
   "cell_type": "code",
   "execution_count": 3,
   "id": "1d23efa5",
   "metadata": {},
   "outputs": [
    {
     "data": {
      "text/plain": [
       "4.5"
      ]
     },
     "execution_count": 3,
     "metadata": {},
     "output_type": "execute_result"
    }
   ],
   "source": [
    "nombre = 4.5\n",
    "nombre"
   ]
  },
  {
   "cell_type": "markdown",
   "id": "9260825b",
   "metadata": {},
   "source": [
    "### Sintaxis"
   ]
  },
  {
   "cell_type": "code",
   "execution_count": 4,
   "id": "9af551ac",
   "metadata": {},
   "outputs": [
    {
     "data": {
      "text/plain": [
       "4"
      ]
     },
     "execution_count": 4,
     "metadata": {},
     "output_type": "execute_result"
    }
   ],
   "source": [
    "2 + 2"
   ]
  },
  {
   "cell_type": "code",
   "execution_count": 5,
   "id": "0969a2ce",
   "metadata": {},
   "outputs": [
    {
     "data": {
      "text/plain": [
       "10"
      ]
     },
     "execution_count": 5,
     "metadata": {},
     "output_type": "execute_result"
    }
   ],
   "source": [
    "x = 5\n",
    "y = 2\n",
    "x * y"
   ]
  },
  {
   "cell_type": "code",
   "execution_count": 6,
   "id": "83754756",
   "metadata": {},
   "outputs": [
    {
     "data": {
      "text/plain": [
       "25"
      ]
     },
     "execution_count": 6,
     "metadata": {},
     "output_type": "execute_result"
    }
   ],
   "source": [
    "x ** y"
   ]
  },
  {
   "cell_type": "code",
   "execution_count": 7,
   "id": "0d25397f",
   "metadata": {},
   "outputs": [
    {
     "name": "stdout",
     "output_type": "stream",
     "text": [
      "Hola Mundo\n"
     ]
    }
   ],
   "source": [
    "print('Hola Mundo')"
   ]
  },
  {
   "cell_type": "code",
   "execution_count": 8,
   "id": "14df911b",
   "metadata": {},
   "outputs": [
    {
     "name": "stdout",
     "output_type": "stream",
     "text": [
      "5 exponente 2 es igual a 25\n"
     ]
    }
   ],
   "source": [
    "print('%s exponente %s es igual a %s' % (x,y,x**y))"
   ]
  },
  {
   "cell_type": "markdown",
   "id": "8f2bf3be",
   "metadata": {},
   "source": [
    "### Tipos de Datos"
   ]
  },
  {
   "cell_type": "markdown",
   "id": "d39026b3",
   "metadata": {},
   "source": [
    "#### Booleanos\n",
    "\n",
    "'True' y 'False' tienen especial significado en Python.\n",
    "\n",
    "Enlace de consulta: https://www.mclibre.org/consultar/python/lecciones/python-booleanos.html#:~:text=Una%20variable%20booleana%20es%20una,considerarse%20como%20una%20variable%20booleana."
   ]
  },
  {
   "cell_type": "code",
   "execution_count": 9,
   "id": "1429df84",
   "metadata": {},
   "outputs": [
    {
     "data": {
      "text/plain": [
       "False"
      ]
     },
     "execution_count": 9,
     "metadata": {},
     "output_type": "execute_result"
    }
   ],
   "source": [
    "bool(0)"
   ]
  },
  {
   "cell_type": "code",
   "execution_count": 10,
   "id": "a3c03154",
   "metadata": {},
   "outputs": [
    {
     "data": {
      "text/plain": [
       "False"
      ]
     },
     "execution_count": 10,
     "metadata": {},
     "output_type": "execute_result"
    }
   ],
   "source": [
    "bool([])"
   ]
  },
  {
   "cell_type": "code",
   "execution_count": 11,
   "id": "ce50cadc",
   "metadata": {},
   "outputs": [
    {
     "data": {
      "text/plain": [
       "True"
      ]
     },
     "execution_count": 11,
     "metadata": {},
     "output_type": "execute_result"
    }
   ],
   "source": [
    "bool(25)"
   ]
  },
  {
   "cell_type": "code",
   "execution_count": 12,
   "id": "cf0da499",
   "metadata": {},
   "outputs": [
    {
     "data": {
      "text/plain": [
       "True"
      ]
     },
     "execution_count": 12,
     "metadata": {},
     "output_type": "execute_result"
    }
   ],
   "source": [
    "bool([27, \"octubre\", 1997])"
   ]
  },
  {
   "cell_type": "markdown",
   "id": "1d4188f9",
   "metadata": {},
   "source": [
    "**Operadores lógicos**"
   ]
  },
  {
   "cell_type": "code",
   "execution_count": 13,
   "id": "358cf2ab",
   "metadata": {},
   "outputs": [],
   "source": [
    "a = True\n",
    "b = False"
   ]
  },
  {
   "cell_type": "code",
   "execution_count": 14,
   "id": "591cb871",
   "metadata": {},
   "outputs": [
    {
     "data": {
      "text/plain": [
       "True"
      ]
     },
     "execution_count": 14,
     "metadata": {},
     "output_type": "execute_result"
    }
   ],
   "source": [
    "a == True"
   ]
  },
  {
   "cell_type": "code",
   "execution_count": 15,
   "id": "c805897c",
   "metadata": {},
   "outputs": [
    {
     "data": {
      "text/plain": [
       "False"
      ]
     },
     "execution_count": 15,
     "metadata": {},
     "output_type": "execute_result"
    }
   ],
   "source": [
    "b == True"
   ]
  },
  {
   "cell_type": "code",
   "execution_count": 16,
   "id": "6ef12ee4",
   "metadata": {},
   "outputs": [
    {
     "data": {
      "text/plain": [
       "True"
      ]
     },
     "execution_count": 16,
     "metadata": {},
     "output_type": "execute_result"
    }
   ],
   "source": [
    "a or b"
   ]
  },
  {
   "cell_type": "code",
   "execution_count": 17,
   "id": "13408e33",
   "metadata": {},
   "outputs": [
    {
     "data": {
      "text/plain": [
       "False"
      ]
     },
     "execution_count": 17,
     "metadata": {},
     "output_type": "execute_result"
    }
   ],
   "source": [
    "a and b"
   ]
  },
  {
   "cell_type": "code",
   "execution_count": 18,
   "id": "6da223cf",
   "metadata": {},
   "outputs": [
    {
     "data": {
      "text/plain": [
       "False"
      ]
     },
     "execution_count": 18,
     "metadata": {},
     "output_type": "execute_result"
    }
   ],
   "source": [
    "not a"
   ]
  },
  {
   "cell_type": "code",
   "execution_count": 19,
   "id": "11469b38",
   "metadata": {},
   "outputs": [
    {
     "data": {
      "text/plain": [
       "True"
      ]
     },
     "execution_count": 19,
     "metadata": {},
     "output_type": "execute_result"
    }
   ],
   "source": [
    "not b"
   ]
  },
  {
   "cell_type": "code",
   "execution_count": 20,
   "id": "fd0e6132",
   "metadata": {},
   "outputs": [
    {
     "data": {
      "text/plain": [
       "False"
      ]
     },
     "execution_count": 20,
     "metadata": {},
     "output_type": "execute_result"
    }
   ],
   "source": [
    "6 / 2 != 3"
   ]
  },
  {
   "cell_type": "code",
   "execution_count": 21,
   "id": "c8fc88d3",
   "metadata": {},
   "outputs": [
    {
     "name": "stdout",
     "output_type": "stream",
     "text": [
      "False\n",
      "True\n",
      "True\n",
      "False\n",
      "True\n",
      "False\n",
      "True\n",
      "False\n"
     ]
    }
   ],
   "source": [
    "# Igual a\n",
    "print(100 == 1)\n",
    "\n",
    "# Mayor igual que\n",
    "print(100 >= 1)\n",
    "print(5 < 10)\n",
    "\n",
    "#Equivalencia de string\n",
    "print('Intro to Python' == 'intro to python')\n",
    "print('Intro to Python' == 'Intro to Python')\n",
    "\n",
    "# mas expresiones\n",
    "print(100 == 100 and 50 == 100)\n",
    "print(100 == 100 or 50 == 100)\n",
    "\n",
    "# otros\n",
    "print(not 1 == 1)"
   ]
  },
  {
   "cell_type": "markdown",
   "id": "0cfbf5a8",
   "metadata": {},
   "source": [
    "#### Numeros: Enteros y flotantes(reales)\n",
    "\n",
    "Los números son bastante sencillos, especialmente en Python 3."
   ]
  },
  {
   "cell_type": "markdown",
   "id": "d586627d",
   "metadata": {},
   "source": [
    "1 + 2"
   ]
  },
  {
   "cell_type": "code",
   "execution_count": 22,
   "id": "30f83d32",
   "metadata": {},
   "outputs": [
    {
     "data": {
      "text/plain": [
       "3.0"
      ]
     },
     "execution_count": 22,
     "metadata": {},
     "output_type": "execute_result"
    }
   ],
   "source": [
    "1.0 + 2.0"
   ]
  },
  {
   "cell_type": "code",
   "execution_count": 23,
   "id": "054f48f9",
   "metadata": {},
   "outputs": [
    {
     "data": {
      "text/plain": [
       "0.5"
      ]
     },
     "execution_count": 23,
     "metadata": {},
     "output_type": "execute_result"
    }
   ],
   "source": [
    "1 / 2"
   ]
  },
  {
   "cell_type": "code",
   "execution_count": 24,
   "id": "77ae8597",
   "metadata": {},
   "outputs": [
    {
     "data": {
      "text/plain": [
       "0.5"
      ]
     },
     "execution_count": 24,
     "metadata": {},
     "output_type": "execute_result"
    }
   ],
   "source": [
    "1.0 / 2.0"
   ]
  },
  {
   "cell_type": "code",
   "execution_count": 25,
   "id": "641d0fec",
   "metadata": {},
   "outputs": [
    {
     "data": {
      "text/plain": [
       "int"
      ]
     },
     "execution_count": 25,
     "metadata": {},
     "output_type": "execute_result"
    }
   ],
   "source": [
    "type(1)"
   ]
  },
  {
   "cell_type": "code",
   "execution_count": 26,
   "id": "6a1fabaf",
   "metadata": {},
   "outputs": [
    {
     "data": {
      "text/plain": [
       "float"
      ]
     },
     "execution_count": 26,
     "metadata": {},
     "output_type": "execute_result"
    }
   ],
   "source": [
    "type(1/2)"
   ]
  },
  {
   "cell_type": "markdown",
   "id": "414e53aa",
   "metadata": {},
   "source": [
    "### Reto para ustedes"
   ]
  },
  {
   "cell_type": "markdown",
   "id": "43c49c6c",
   "metadata": {},
   "source": [
    "1. Resuelva la siguiente operación haciendo uso de Python\n",
    "$$\\neg V\\wedge \\left[(F \\vee V) \\wedge\\neg F\\right]$$\n",
    "\n",
    "2. Resuelva la siguiente operación haciendo uso de Python\n",
    "$$6\\times \\frac{8}{7} + 8\\times (5^4 + \\frac{7}{3^2})$$"
   ]
  },
  {
   "cell_type": "markdown",
   "id": "523487d7",
   "metadata": {},
   "source": [
    "<a id=\"estructura\"></a>\n",
    "### Estructura de control"
   ]
  },
  {
   "cell_type": "markdown",
   "id": "0eb05fef",
   "metadata": {},
   "source": [
    "![image info](./Figure/estr.png)"
   ]
  },
  {
   "cell_type": "markdown",
   "id": "f47f18ad",
   "metadata": {},
   "source": [
    "Secuencia"
   ]
  },
  {
   "cell_type": "code",
   "execution_count": 27,
   "id": "bbeaaee6",
   "metadata": {},
   "outputs": [],
   "source": [
    "a = 5\n",
    "c = 8"
   ]
  },
  {
   "cell_type": "code",
   "execution_count": 28,
   "id": "a8ac7fcc",
   "metadata": {},
   "outputs": [],
   "source": [
    "suma = a + c"
   ]
  },
  {
   "cell_type": "code",
   "execution_count": 29,
   "id": "e424f449",
   "metadata": {},
   "outputs": [],
   "source": [
    "producto = a * c"
   ]
  },
  {
   "cell_type": "code",
   "execution_count": 30,
   "id": "7a58550e",
   "metadata": {},
   "outputs": [
    {
     "name": "stdout",
     "output_type": "stream",
     "text": [
      "La suma es:  13\n",
      "El producto es:  40\n"
     ]
    }
   ],
   "source": [
    "print('La suma es: ', suma)\n",
    "print('El producto es: ', producto)"
   ]
  },
  {
   "cell_type": "markdown",
   "id": "c6e64b9c",
   "metadata": {},
   "source": [
    "Selección o alternativa"
   ]
  },
  {
   "cell_type": "markdown",
   "id": "5b1e87d1",
   "metadata": {},
   "source": [
    "**if - else**"
   ]
  },
  {
   "cell_type": "code",
   "execution_count": 31,
   "id": "f2e8d8b5",
   "metadata": {},
   "outputs": [],
   "source": [
    "# jnf = Juguete no funciona \n",
    "jnf = 'no'"
   ]
  },
  {
   "cell_type": "code",
   "execution_count": 32,
   "id": "23b89771",
   "metadata": {},
   "outputs": [
    {
     "name": "stdout",
     "output_type": "stream",
     "text": [
      "¿Está encendido?: si\n",
      "¿Tiene pilas?: no\n",
      "Pon las pilas\n"
     ]
    }
   ],
   "source": [
    "j = input('¿Está encendido?: ')\n",
    "if j == jnf:\n",
    "  print('Enciendelo ')\n",
    "else:\n",
    "  p = input('¿Tiene pilas?: ')\n",
    "  if p == jnf:\n",
    "    print('Pon las pilas')\n",
    "  else:\n",
    "    print('Compra otro juguete ')"
   ]
  },
  {
   "cell_type": "code",
   "execution_count": 33,
   "id": "3fa7d921",
   "metadata": {},
   "outputs": [
    {
     "name": "stdout",
     "output_type": "stream",
     "text": [
      "Ingrese su nota: 15\n",
      "Notable\n"
     ]
    }
   ],
   "source": [
    "nota = int(input('Ingrese su nota: '))\n",
    "if nota >= 17:\n",
    "    print('Sobre saliente')\n",
    "elif nota >= 15:\n",
    "    print('Notable')\n",
    "elif nota >= 13:\n",
    "    print('Aprobado')\n",
    "else:\n",
    "    print('Suspendido')"
   ]
  },
  {
   "cell_type": "code",
   "execution_count": 34,
   "id": "e5504733",
   "metadata": {},
   "outputs": [
    {
     "name": "stdout",
     "output_type": "stream",
     "text": [
      "Ingrese su nota: 20\n",
      "Sobresaliente\n"
     ]
    }
   ],
   "source": [
    "nota1 = int(input('Ingrese su nota: '))\n",
    "if nota1>=17:\n",
    "    print('Sobresaliente')\n",
    "if (nota1>=15) & (nota1<17):\n",
    "    print('Notable')\n",
    "if (nota1>=13) & (nota1<15):\n",
    "    print('Aprobado')\n",
    "if (nota1<13):\n",
    "    print('Suspenso')"
   ]
  },
  {
   "cell_type": "markdown",
   "id": "824c9b84",
   "metadata": {},
   "source": [
    "Iterativo"
   ]
  },
  {
   "cell_type": "markdown",
   "id": "134947bf",
   "metadata": {},
   "source": [
    "**for**"
   ]
  },
  {
   "cell_type": "code",
   "execution_count": 35,
   "id": "c2344451",
   "metadata": {},
   "outputs": [
    {
     "name": "stdout",
     "output_type": "stream",
     "text": [
      "i es 0\n",
      "i es 1\n",
      "i es 2\n",
      "i es 3\n",
      "i es 4\n"
     ]
    }
   ],
   "source": [
    "for i in range(5): # En otras palabras: for i in [0, 1, 2, 3, 4]\n",
    "    print('i es %s' % i)"
   ]
  },
  {
   "cell_type": "code",
   "execution_count": 36,
   "id": "948490b6",
   "metadata": {},
   "outputs": [
    {
     "name": "stdout",
     "output_type": "stream",
     "text": [
      "0\n",
      "Debe ser 0.\n",
      "1\n",
      "Es 1 o 2.\n",
      "2\n",
      "Es 1 o 2.\n",
      "3\n",
      "Es 3 o 4.\n",
      "4\n",
      "Es 3 o 4.\n"
     ]
    }
   ],
   "source": [
    "for i in range(5):\n",
    "    print(i) # Monitorear\n",
    "    if i in [1, 2]:\n",
    "        print(\"Es 1 o 2.\")\n",
    "    elif i in [3, 4]:\n",
    "        print(\"Es 3 o 4.\")\n",
    "    else:\n",
    "        print(\"Debe ser 0.\")"
   ]
  },
  {
   "cell_type": "code",
   "execution_count": 37,
   "id": "65997e56",
   "metadata": {},
   "outputs": [
    {
     "name": "stdout",
     "output_type": "stream",
     "text": [
      "Tabla del1\n",
      "1 x 1  =  1\n",
      "1 x 2  =  2\n",
      "1 x 3  =  3\n",
      "1 x 4  =  4\n",
      "1 x 5  =  5\n",
      "Tabla del2\n",
      "2 x 1  =  2\n",
      "2 x 2  =  4\n",
      "2 x 3  =  6\n",
      "2 x 4  =  8\n",
      "2 x 5  =  10\n"
     ]
    }
   ],
   "source": [
    "for i in range(1,3):\n",
    "    print('Tabla del' + str(i))\n",
    "    for j in range(1,6):\n",
    "        print(i,'x',j,' = ',i*j,sep=' ')"
   ]
  },
  {
   "cell_type": "markdown",
   "id": "f611b858",
   "metadata": {},
   "source": [
    "**while**"
   ]
  },
  {
   "cell_type": "code",
   "execution_count": 38,
   "id": "61954b6e",
   "metadata": {},
   "outputs": [
    {
     "name": "stdout",
     "output_type": "stream",
     "text": [
      "0\n",
      "1\n",
      "2\n",
      "3\n",
      "4\n",
      "5\n",
      "Hecho.\n"
     ]
    }
   ],
   "source": [
    "j = 0\n",
    "while j <= 5:\n",
    "    print(j)\n",
    "    j += 1 # Lo mismo que: j = j + 1\n",
    "    #if j == 4:\n",
    "        #break\n",
    "else:\n",
    "    print('Hecho.')"
   ]
  },
  {
   "cell_type": "code",
   "execution_count": 39,
   "id": "29d5d8d9",
   "metadata": {},
   "outputs": [
    {
     "data": {
      "text/plain": [
       "6"
      ]
     },
     "execution_count": 39,
     "metadata": {},
     "output_type": "execute_result"
    }
   ],
   "source": [
    "j"
   ]
  },
  {
   "cell_type": "markdown",
   "id": "b529980b",
   "metadata": {},
   "source": [
    "<a id=\"arrays\"></a>\n",
    "### Arrays"
   ]
  },
  {
   "cell_type": "code",
   "execution_count": 40,
   "id": "c38f1a8b",
   "metadata": {},
   "outputs": [],
   "source": [
    "import math\n",
    "import numpy as np"
   ]
  },
  {
   "cell_type": "code",
   "execution_count": 41,
   "id": "2ea9fe6b",
   "metadata": {},
   "outputs": [
    {
     "data": {
      "text/plain": [
       "array([0, 2, 4])"
      ]
     },
     "execution_count": 41,
     "metadata": {},
     "output_type": "execute_result"
    }
   ],
   "source": [
    "mi1_list = [0, 2, 4]\n",
    "np.array(mi1_list)"
   ]
  },
  {
   "cell_type": "code",
   "execution_count": 42,
   "id": "2cee1105",
   "metadata": {},
   "outputs": [
    {
     "name": "stdout",
     "output_type": "stream",
     "text": [
      "a\n"
     ]
    }
   ],
   "source": [
    "mi_lista = []\n",
    "mi_lista =['a', 'x',' d']\n",
    "print(mi_lista[0])"
   ]
  },
  {
   "cell_type": "code",
   "execution_count": 43,
   "id": "0fcf3eaa",
   "metadata": {},
   "outputs": [
    {
     "data": {
      "text/plain": [
       "['a', 'x', ' d', 'x']"
      ]
     },
     "execution_count": 43,
     "metadata": {},
     "output_type": "execute_result"
    }
   ],
   "source": [
    "mi_lista.append('x')\n",
    "mi_lista"
   ]
  },
  {
   "cell_type": "markdown",
   "id": "f30cdecd",
   "metadata": {},
   "source": [
    "**Funciones para array**"
   ]
  },
  {
   "cell_type": "markdown",
   "id": "82269393",
   "metadata": {},
   "source": [
    "![image info](./Figure/arra.png)"
   ]
  },
  {
   "cell_type": "code",
   "execution_count": 44,
   "id": "55b3c1cc",
   "metadata": {},
   "outputs": [
    {
     "data": {
      "text/plain": [
       "['a', 'a', 'x', ' d', 'x']"
      ]
     },
     "execution_count": 44,
     "metadata": {},
     "output_type": "execute_result"
    }
   ],
   "source": [
    "mi_lista.insert(1, 'a')\n",
    "mi_lista"
   ]
  },
  {
   "cell_type": "markdown",
   "id": "0334f52f",
   "metadata": {},
   "source": [
    "#### Listas\n",
    "\n",
    "Las listas son secuencias _mutables_ de cualquier cosa."
   ]
  },
  {
   "cell_type": "code",
   "execution_count": 45,
   "id": "5008aa1f",
   "metadata": {},
   "outputs": [],
   "source": [
    "l = [0, 1, 1, 2, 3, 5, 8]"
   ]
  },
  {
   "cell_type": "code",
   "execution_count": 46,
   "id": "b523fdda",
   "metadata": {},
   "outputs": [],
   "source": [
    "m = [5, 2, 'a', 'xxx', True, [0, 1]]"
   ]
  },
  {
   "cell_type": "code",
   "execution_count": 47,
   "id": "b0473b0e",
   "metadata": {},
   "outputs": [
    {
     "data": {
      "text/plain": [
       "[0, 1, 1]"
      ]
     },
     "execution_count": 47,
     "metadata": {},
     "output_type": "execute_result"
    }
   ],
   "source": [
    "l[0:3]"
   ]
  },
  {
   "cell_type": "code",
   "execution_count": 48,
   "id": "0827e01b",
   "metadata": {},
   "outputs": [
    {
     "data": {
      "text/plain": [
       "True"
      ]
     },
     "execution_count": 48,
     "metadata": {},
     "output_type": "execute_result"
    }
   ],
   "source": [
    "m[4]"
   ]
  },
  {
   "cell_type": "code",
   "execution_count": 49,
   "id": "179f9abc",
   "metadata": {},
   "outputs": [],
   "source": [
    "m[4] = False"
   ]
  },
  {
   "cell_type": "markdown",
   "id": "c809b80f",
   "metadata": {},
   "source": [
    "### Diccionario\n",
    "\n",
    "Un diccionario es una estructura de datos similar a las listas que almacena la información en forma de pares con una clave única y un valor asociado.\n",
    "\n",
    "![image info](./Figure/dic.png)"
   ]
  },
  {
   "cell_type": "code",
   "execution_count": 50,
   "id": "68864a61",
   "metadata": {},
   "outputs": [],
   "source": [
    "D = {'comida': 'frejol', 'calidad': 10, 'color': 'rojo'}"
   ]
  },
  {
   "cell_type": "code",
   "execution_count": 51,
   "id": "ef18db10",
   "metadata": {},
   "outputs": [
    {
     "data": {
      "text/plain": [
       "{'comida': 'frejol', 'calidad': 10, 'color': 'rojo'}"
      ]
     },
     "execution_count": 51,
     "metadata": {},
     "output_type": "execute_result"
    }
   ],
   "source": [
    "D"
   ]
  },
  {
   "cell_type": "code",
   "execution_count": 52,
   "id": "8a61be37",
   "metadata": {},
   "outputs": [
    {
     "data": {
      "text/plain": [
       "'frejol'"
      ]
     },
     "execution_count": 52,
     "metadata": {},
     "output_type": "execute_result"
    }
   ],
   "source": [
    "D['comida']"
   ]
  },
  {
   "cell_type": "code",
   "execution_count": 53,
   "id": "243c8d9a",
   "metadata": {},
   "outputs": [
    {
     "data": {
      "text/plain": [
       "10"
      ]
     },
     "execution_count": 53,
     "metadata": {},
     "output_type": "execute_result"
    }
   ],
   "source": [
    "D['calidad']"
   ]
  },
  {
   "cell_type": "code",
   "execution_count": 54,
   "id": "1c9b23ab",
   "metadata": {},
   "outputs": [],
   "source": [
    "D['calidad'] += 1"
   ]
  },
  {
   "cell_type": "code",
   "execution_count": 55,
   "id": "9ce72daa",
   "metadata": {},
   "outputs": [
    {
     "data": {
      "text/plain": [
       "{'comida': 'frejol', 'calidad': 11, 'color': 'rojo'}"
      ]
     },
     "execution_count": 55,
     "metadata": {},
     "output_type": "execute_result"
    }
   ],
   "source": [
    "D"
   ]
  },
  {
   "cell_type": "code",
   "execution_count": 56,
   "id": "c27a9343",
   "metadata": {},
   "outputs": [],
   "source": [
    "D = {} "
   ]
  },
  {
   "cell_type": "code",
   "execution_count": 57,
   "id": "151a46e4",
   "metadata": {},
   "outputs": [],
   "source": [
    "D['nombre'] = 'Bob'\n",
    "D['trabajo'] = 'hacker'\n",
    "D['edad'] = 40"
   ]
  },
  {
   "cell_type": "code",
   "execution_count": 58,
   "id": "85caf128",
   "metadata": {},
   "outputs": [
    {
     "data": {
      "text/plain": [
       "{'nombre': 'Bob', 'trabajo': 'hacker', 'edad': 40}"
      ]
     },
     "execution_count": 58,
     "metadata": {},
     "output_type": "execute_result"
    }
   ],
   "source": [
    "D"
   ]
  },
  {
   "cell_type": "code",
   "execution_count": 59,
   "id": "8991eb3b",
   "metadata": {},
   "outputs": [
    {
     "data": {
      "text/plain": [
       "'Bob'"
      ]
     },
     "execution_count": 59,
     "metadata": {},
     "output_type": "execute_result"
    }
   ],
   "source": [
    "D['nombre']"
   ]
  },
  {
   "cell_type": "markdown",
   "id": "5ee09432",
   "metadata": {},
   "source": [
    "# Trabajo"
   ]
  },
  {
   "cell_type": "markdown",
   "id": "068f4a6a",
   "metadata": {},
   "source": [
    "![image info](./Figure/hw3.png)"
   ]
  }
 ],
 "metadata": {
  "kernelspec": {
   "display_name": "Python 3 (ipykernel)",
   "language": "python",
   "name": "python3"
  },
  "language_info": {
   "codemirror_mode": {
    "name": "ipython",
    "version": 3
   },
   "file_extension": ".py",
   "mimetype": "text/x-python",
   "name": "python",
   "nbconvert_exporter": "python",
   "pygments_lexer": "ipython3",
   "version": "3.9.12"
  }
 },
 "nbformat": 4,
 "nbformat_minor": 5
}
