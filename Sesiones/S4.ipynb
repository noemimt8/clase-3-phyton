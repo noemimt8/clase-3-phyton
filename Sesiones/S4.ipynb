{
 "cells": [
  {
   "cell_type": "markdown",
   "id": "d46afa50",
   "metadata": {},
   "source": [
    "# Sesión 4 - Fundamentos de Python\n",
    "\n",
    "Martes 25/10/2022"
   ]
  },
  {
   "cell_type": "markdown",
   "id": "57e9d00f",
   "metadata": {},
   "source": [
    "### Enlaces de consulta\n",
    "\n",
    "1. [Tutorial de Python](https://docs.python.org/es/3/tutorial/)\n",
    "2. [Tutorial de Python](https://aprendeconalf.es/docencia/python/manual/introduccion-python/)\n",
    "3. [1ra opción de Numpy](https://python-course.eu/numerical-programming/introduction-to-numpy.php)\n",
    "4. [2da opción de Numpy](https://numpy.org/doc/stable/user/index.html)\n",
    "5. [Pandas](https://pandas.pydata.org/docs/user_guide/index.html)\n",
    "\n",
    "### Contenido\n",
    "\n",
    "* [Funciones](#funciones)\n",
    "* [Librería Numpy](#numpy)\n",
    "* [Librería Pandas](#pandas)\n",
    "\n",
    "### Objetivo de la sesión\n",
    "- Conocer el significado de una función y el uso de librerias"
   ]
  },
  {
   "cell_type": "markdown",
   "id": "28e1dbd7",
   "metadata": {},
   "source": [
    "<a id=\"funciones\"></a>\n",
    "## Funciones\n",
    "\n",
    "### Funciones integradas\n",
    "\n",
    "Python tiene una serie de funciones y tipos incluidos en él que están siempre disponibles.\n",
    "![image info](./Figure/f1.png)\n",
    "\n",
    "[Para más detalle aquí](https://docs.python.org/es/3.8/library/functions.html)"
   ]
  },
  {
   "cell_type": "code",
   "execution_count": null,
   "id": "066e39df",
   "metadata": {},
   "outputs": [],
   "source": [
    "nombre = 'Maria'\n",
    "if nombre == 'Maria':\n",
    "    print('Bienvenida Maria')\n",
    "else:\n",
    "    print('Bienvenida a todos')"
   ]
  },
  {
   "cell_type": "markdown",
   "id": "55f4d4f4",
   "metadata": {},
   "source": [
    "**Librerias de Python**\n",
    "\n",
    "![Librerias](./Figure/lib.png)\n",
    "\n",
    "Imagen tomada de: https://www.actumlogos.com/python-para-ia.html\n",
    "\n",
    "Librería [**math**](https://docs.python.org/es/3/library/math.html)"
   ]
  },
  {
   "cell_type": "code",
   "execution_count": null,
   "id": "0a5f642a",
   "metadata": {},
   "outputs": [],
   "source": [
    "import math as mt\n",
    "\n",
    "print(math.fsum([4,5]))\n",
    "print(math.sqrt(9))"
   ]
  },
  {
   "cell_type": "code",
   "execution_count": null,
   "id": "2d9ca550",
   "metadata": {},
   "outputs": [],
   "source": [
    "math.factorial(5)"
   ]
  },
  {
   "cell_type": "code",
   "execution_count": null,
   "id": "8279a7f2",
   "metadata": {},
   "outputs": [],
   "source": [
    "math.pi"
   ]
  },
  {
   "cell_type": "code",
   "execution_count": null,
   "id": "f0c7d27e",
   "metadata": {},
   "outputs": [],
   "source": [
    "math.sqrt(85)"
   ]
  },
  {
   "cell_type": "code",
   "execution_count": null,
   "id": "e48652d3",
   "metadata": {},
   "outputs": [],
   "source": [
    "math.floor(4.22)"
   ]
  },
  {
   "cell_type": "code",
   "execution_count": null,
   "id": "734e912d",
   "metadata": {},
   "outputs": [],
   "source": [
    "math.ceil(4.22)"
   ]
  },
  {
   "cell_type": "markdown",
   "id": "075c2445",
   "metadata": {},
   "source": [
    "**Inportante!** se puede preguntar a Python por ayuda con la función **help(nombre de la librería)**"
   ]
  },
  {
   "cell_type": "markdown",
   "id": "1de0b7fd",
   "metadata": {},
   "source": [
    "### Definir una funciones \n",
    "El concepto de función es básico en prácticamente cualquier lenguaje de programación. Se trata de una estructura que nos permite agrupar código. Persigue dos objetivos claros: \n",
    "1. **No repetir** trozos de código durante nuestro programa. \n",
    "2. **Reutilizar** el código para distintas situaciones.\n",
    "![image info](./Figure/funcion.png)"
   ]
  },
  {
   "cell_type": "code",
   "execution_count": null,
   "id": "a8a89806",
   "metadata": {},
   "outputs": [],
   "source": [
    "def hola():\n",
    "    print('Hola mundo')"
   ]
  },
  {
   "cell_type": "code",
   "execution_count": null,
   "id": "2b1e815a",
   "metadata": {},
   "outputs": [],
   "source": [
    "hola()"
   ]
  },
  {
   "cell_type": "code",
   "execution_count": null,
   "id": "bead031f",
   "metadata": {},
   "outputs": [],
   "source": [
    "def string(a):\n",
    "    print(a)"
   ]
  },
  {
   "cell_type": "code",
   "execution_count": null,
   "id": "4f643810",
   "metadata": {},
   "outputs": [],
   "source": [
    "string('Es un estring')"
   ]
  },
  {
   "cell_type": "code",
   "execution_count": null,
   "id": "aa05b1f3",
   "metadata": {},
   "outputs": [],
   "source": [
    "y = 54\n",
    "string(y)"
   ]
  },
  {
   "cell_type": "code",
   "execution_count": null,
   "id": "f94fd4cf",
   "metadata": {},
   "outputs": [],
   "source": [
    "def suma(num1, num2):\n",
    "    print(num1 + num2)"
   ]
  },
  {
   "cell_type": "code",
   "execution_count": null,
   "id": "f1d3ed17",
   "metadata": {},
   "outputs": [],
   "source": [
    "suma(5,10)"
   ]
  },
  {
   "cell_type": "code",
   "execution_count": null,
   "id": "f67e7637",
   "metadata": {},
   "outputs": [],
   "source": [
    "suma('Ho','la')"
   ]
  },
  {
   "cell_type": "code",
   "execution_count": null,
   "id": "91a1719e",
   "metadata": {},
   "outputs": [],
   "source": [
    "def suma1(a,b):\n",
    "    return(a + b)"
   ]
  },
  {
   "cell_type": "code",
   "execution_count": null,
   "id": "82173124",
   "metadata": {},
   "outputs": [],
   "source": [
    "suma1(7, 10)"
   ]
  },
  {
   "cell_type": "code",
   "execution_count": null,
   "id": "8051fce6",
   "metadata": {},
   "outputs": [],
   "source": [
    "def s_p_e(v1, v2):\n",
    "    s = v1 + v2\n",
    "    p = v1 * v2\n",
    "    e = v1 ** v2\n",
    "    return(s, p, e)"
   ]
  },
  {
   "cell_type": "code",
   "execution_count": null,
   "id": "deb7926e",
   "metadata": {},
   "outputs": [],
   "source": [
    "s_p_e(4,5)"
   ]
  },
  {
   "cell_type": "code",
   "execution_count": null,
   "id": "a36548d1",
   "metadata": {},
   "outputs": [],
   "source": [
    "suma2, producto, exponente = s_p_e(2, 5)"
   ]
  },
  {
   "cell_type": "code",
   "execution_count": null,
   "id": "35a557cd",
   "metadata": {},
   "outputs": [],
   "source": [
    "suma2"
   ]
  },
  {
   "cell_type": "markdown",
   "id": "f577b6ee",
   "metadata": {},
   "source": [
    "Generar archivo"
   ]
  },
  {
   "cell_type": "markdown",
   "id": "7c53b8e3",
   "metadata": {},
   "source": [
    "![Función](./Figure/fun.png)"
   ]
  },
  {
   "cell_type": "code",
   "execution_count": null,
   "id": "788aa405",
   "metadata": {},
   "outputs": [],
   "source": [
    "import pandas as pd"
   ]
  },
  {
   "cell_type": "code",
   "execution_count": null,
   "id": "817aaee7",
   "metadata": {},
   "outputs": [],
   "source": [
    "def generar_archivo_txt(lista, nombre):\n",
    "    nombreArchivo = nombre + '.csv'\n",
    "    archivo = pd.DataFrame(lista)\n",
    "    archivo.to_csv('./Archives/'+ nombreArchivo, encoding = 'utf-8')\n",
    "    return nombreArchivo"
   ]
  },
  {
   "cell_type": "code",
   "execution_count": null,
   "id": "6e0d4259",
   "metadata": {},
   "outputs": [],
   "source": [
    "print(generar_archivo_txt([[1, 2, 3],[2, 4, 8],[7, 8, 9]],'Nueva_lista'))"
   ]
  },
  {
   "cell_type": "code",
   "execution_count": null,
   "id": "91d99e9d",
   "metadata": {},
   "outputs": [],
   "source": [
    "l = './Archives/Nueva_lista.csv'"
   ]
  },
  {
   "cell_type": "code",
   "execution_count": null,
   "id": "ecd6cada",
   "metadata": {},
   "outputs": [],
   "source": [
    "df = pd.read_csv(l, skipfooter=0, index_col=[0])"
   ]
  },
  {
   "cell_type": "code",
   "execution_count": null,
   "id": "015796fa",
   "metadata": {},
   "outputs": [],
   "source": [
    "df"
   ]
  },
  {
   "cell_type": "code",
   "execution_count": null,
   "id": "6bc673a2",
   "metadata": {},
   "outputs": [],
   "source": [
    "def generar_archivo_txt1(lista, nombre, columnas = ['Valor1', 'Valor2', 'Valor3']):\n",
    "    nombreArchivo = nombre + '.csv'\n",
    "    archivo = pd.DataFrame(lista, columns = columnas)\n",
    "    archivo.to_csv('./Archives/' + nombreArchivo, encoding = 'utf-8')\n",
    "    total_filas = len (archivo)\n",
    "    return nombreArchivo, total_filas"
   ]
  },
  {
   "cell_type": "code",
   "execution_count": null,
   "id": "be3ca0ac",
   "metadata": {},
   "outputs": [],
   "source": [
    "lista2 = [[1, 2, 3],[2, 4, 8],[7, 8, 9]]\n",
    "nombreArchivo, total_filas = generar_archivo_txt1(lista2,'Nueva_l2', ['1ro','2do','3ro'])\n",
    "print(nombreArchivo, total_filas)"
   ]
  },
  {
   "cell_type": "code",
   "execution_count": null,
   "id": "1f759b34",
   "metadata": {},
   "outputs": [],
   "source": [
    "df2 = pd.read_csv('./Archives/Nueva_l2.csv', skipfooter=0, index_col=[0])"
   ]
  },
  {
   "cell_type": "code",
   "execution_count": null,
   "id": "04e2901c",
   "metadata": {},
   "outputs": [],
   "source": [
    "df2"
   ]
  },
  {
   "cell_type": "markdown",
   "id": "8368e398",
   "metadata": {},
   "source": [
    "**Funciones recursivas**"
   ]
  },
  {
   "cell_type": "code",
   "execution_count": null,
   "id": "0eba2bc3",
   "metadata": {},
   "outputs": [],
   "source": [
    "def jugar(intento = 1): \n",
    "    respuesta = input('¿De qué color es una naranja? ') \n",
    "    if respuesta != \"naranja\": \n",
    "        if intento < 3: \n",
    "            print('Fallaste! Inténtalo de nuevo')\n",
    "            intento += 1 \n",
    "            jugar(intento) # Llamada recursiva \n",
    "        else: \n",
    "            print('Perdiste!')\n",
    "    else:\n",
    "        print('Ganaste!') "
   ]
  },
  {
   "cell_type": "code",
   "execution_count": null,
   "id": "0aa374d0",
   "metadata": {},
   "outputs": [],
   "source": [
    "jugar()"
   ]
  },
  {
   "cell_type": "code",
   "execution_count": null,
   "id": "bfe312d6",
   "metadata": {},
   "outputs": [],
   "source": [
    "def cuenta_atras(num):\n",
    "    num -= 1\n",
    "    if num > 0:\n",
    "        print(num)\n",
    "        cuenta_atras(num)\n",
    "    else:\n",
    "        print(\"Boooooooom!\")\n",
    "    print(\"Fin de la función\", num)"
   ]
  },
  {
   "cell_type": "code",
   "execution_count": null,
   "id": "ff9d81b1",
   "metadata": {},
   "outputs": [],
   "source": [
    "cuenta_atras(5)"
   ]
  },
  {
   "cell_type": "code",
   "execution_count": null,
   "id": "b01665b6",
   "metadata": {},
   "outputs": [],
   "source": [
    "def factorial(numero):\n",
    "    if numero == 0:\n",
    "        return 1\n",
    "    total = numero * factorial(numero-1)\n",
    "    return total"
   ]
  },
  {
   "cell_type": "code",
   "execution_count": null,
   "id": "2dc96c56",
   "metadata": {},
   "outputs": [],
   "source": [
    "factorial(3)"
   ]
  },
  {
   "cell_type": "markdown",
   "id": "58cfba61",
   "metadata": {},
   "source": [
    "<a id=\"numpy\"></a>\n",
    "## Numpy"
   ]
  },
  {
   "cell_type": "markdown",
   "id": "e0105a04",
   "metadata": {},
   "source": [
    "`Numpy` es una libreria que permite el manejo eficiente de **tensores**, es decir, arreglos multidimensionales.\n",
    "\n",
    "Para instalar escriva el siguiente comando: **!pip install numpy**"
   ]
  },
  {
   "cell_type": "code",
   "execution_count": null,
   "id": "05642387",
   "metadata": {},
   "outputs": [],
   "source": [
    "import numpy as np"
   ]
  },
  {
   "cell_type": "markdown",
   "id": "fb6200ec",
   "metadata": {},
   "source": [
    "#### Creación de matrices Numpy\n",
    "\n",
    "Hay varias formas de inicializar nuevas matrices Numpy, por ejemplo, desde\n",
    "\n",
    "* conversión de listas o tuplas de Python\n",
    "* usar funciones dedicadas a generar matrices numpy, como `arange`, `linspace`, etc.\n",
    "* lectura de datos de archivos\n",
    "\n",
    "##### De las listas\n",
    "\n",
    "Por ejemplo, para crear nuevas matrices de vectores y matrices a partir de las listas de Python, podemos usar la función `numpy.array`"
   ]
  },
  {
   "cell_type": "code",
   "execution_count": null,
   "id": "d2d22994",
   "metadata": {},
   "outputs": [],
   "source": [
    "lista = [1, 2, 3, 4, 5]\n",
    "v_a = np.array(lista)\n",
    "v_a"
   ]
  },
  {
   "cell_type": "code",
   "execution_count": null,
   "id": "7501bf6f",
   "metadata": {},
   "outputs": [],
   "source": [
    "v_b = np.array([1, 2, 3, 4, 5])\n",
    "v_b"
   ]
  },
  {
   "cell_type": "code",
   "execution_count": null,
   "id": "055fb546",
   "metadata": {},
   "outputs": [],
   "source": [
    "print(v_a.dtype)"
   ]
  },
  {
   "cell_type": "code",
   "execution_count": null,
   "id": "6fc9d06a",
   "metadata": {},
   "outputs": [],
   "source": [
    "M = np.array([[1, 2], [3, 4]])\n",
    "M"
   ]
  },
  {
   "cell_type": "code",
   "execution_count": null,
   "id": "03553488",
   "metadata": {},
   "outputs": [],
   "source": [
    "type(v_a), type(M)"
   ]
  },
  {
   "cell_type": "markdown",
   "id": "18684625",
   "metadata": {},
   "source": [
    "La diferencia entre las matrices `v_a` y `M` son solo sus formas. Podemos obtener información sobre la forma de una matriz usando la propiedad `ndarray.shape`."
   ]
  },
  {
   "cell_type": "code",
   "execution_count": null,
   "id": "6e2d48a7",
   "metadata": {},
   "outputs": [],
   "source": [
    "v_a.shape"
   ]
  },
  {
   "cell_type": "code",
   "execution_count": null,
   "id": "462a9764",
   "metadata": {},
   "outputs": [],
   "source": [
    "M.shape"
   ]
  },
  {
   "cell_type": "markdown",
   "id": "e1855a99",
   "metadata": {},
   "source": [
    "El número de elementos en la matriz está disponible a través de la propiedad `ndarray.size`:"
   ]
  },
  {
   "cell_type": "code",
   "execution_count": null,
   "id": "12338ff8",
   "metadata": {},
   "outputs": [],
   "source": [
    "M.size"
   ]
  },
  {
   "cell_type": "code",
   "execution_count": null,
   "id": "a0040eff",
   "metadata": {},
   "outputs": [],
   "source": [
    "a = np.array([[0.0,0.0,0.0],[10.0,10.0,10.0],[20.0,20.0,20.0],[30.0,30.0,30.0]])\n",
    "b = np.array([0.0,1.0,2.0])"
   ]
  },
  {
   "cell_type": "code",
   "execution_count": null,
   "id": "2c8f7119",
   "metadata": {},
   "outputs": [],
   "source": [
    "a + b"
   ]
  },
  {
   "cell_type": "code",
   "execution_count": null,
   "id": "c59c6f02",
   "metadata": {},
   "outputs": [],
   "source": [
    "lista= [1,2,3,4,5]\n",
    "a_complejo = np.array(lista, dtype = complex)\n",
    "print(a_complejo)"
   ]
  },
  {
   "cell_type": "code",
   "execution_count": null,
   "id": "b464c7d0",
   "metadata": {},
   "outputs": [],
   "source": [
    "c = np.array([[0,1,2],[3,4,5]])\n",
    "print(c)"
   ]
  },
  {
   "cell_type": "code",
   "execution_count": null,
   "id": "f4fb9404",
   "metadata": {},
   "outputs": [],
   "source": [
    "c.ndim"
   ]
  },
  {
   "cell_type": "code",
   "execution_count": null,
   "id": "d81ab8c8",
   "metadata": {},
   "outputs": [],
   "source": [
    "c.shape"
   ]
  },
  {
   "cell_type": "code",
   "execution_count": null,
   "id": "93b7553b",
   "metadata": {},
   "outputs": [],
   "source": [
    "a = np.array([[0,1,2,3,4,5],[10,11,12,13,14,15],[20,21,22,23,24,25],[30,31,32,33,34,35],[40,41,42,43,44,45],[50,51,52,53,54,55]])"
   ]
  },
  {
   "cell_type": "code",
   "execution_count": null,
   "id": "28b57a8f",
   "metadata": {},
   "outputs": [],
   "source": [
    "a"
   ]
  },
  {
   "cell_type": "code",
   "execution_count": null,
   "id": "c20b002f",
   "metadata": {},
   "outputs": [],
   "source": [
    "a[1]"
   ]
  },
  {
   "cell_type": "code",
   "execution_count": null,
   "id": "9e389d55",
   "metadata": {},
   "outputs": [],
   "source": [
    "a[1,:]"
   ]
  },
  {
   "cell_type": "code",
   "execution_count": null,
   "id": "317b59d2",
   "metadata": {},
   "outputs": [],
   "source": [
    "a[4:,4:]"
   ]
  },
  {
   "cell_type": "code",
   "execution_count": null,
   "id": "1608e0fb",
   "metadata": {},
   "outputs": [],
   "source": [
    "a[:,2]"
   ]
  },
  {
   "cell_type": "code",
   "execution_count": null,
   "id": "6218433b",
   "metadata": {},
   "outputs": [],
   "source": [
    "a[0,3:5]"
   ]
  },
  {
   "cell_type": "code",
   "execution_count": null,
   "id": "30aaedfc",
   "metadata": {},
   "outputs": [],
   "source": [
    "a[2::2,::2]"
   ]
  },
  {
   "cell_type": "markdown",
   "id": "e07db35f",
   "metadata": {},
   "source": [
    "<a id=\"pandas\"></a>\n",
    "## Pandas"
   ]
  },
  {
   "cell_type": "markdown",
   "id": "43426c5f",
   "metadata": {},
   "source": [
    "#### ¿Qué es Pandas?\n",
    "\n",
    "Pandas es una biblioteca de software escrita para el lenguaje de programación Python para la manipulación y el análisis de datos. En particular, ofrece estructuras de datos y operaciones para manipular tablas numéricas y series de tiempo.\n",
    "\n",
    "#### Características de la biblioteca\n",
    "\n",
    "* Objeto DataFrame para manipulación de datos con indexación integrada\n",
    "* Herramientas para leer y escribir datos entre estructuras de datos en memoria y diferentes formatos de archivo\n",
    "* Alineación de datos y manejo integrado de datos faltantes\n",
    "* Remodelación y pivoteo de conjuntos de datos\n",
    "* Rebanado basado en etiquetas, indexación elegante y creación de subconjuntos de grandes conjuntos de datos\n",
    "* Inserción y eliminación de columnas de estructura de datos\n",
    "* Motor de agrupación que permite operaciones de división, aplicación y combinación en conjuntos de datos\n",
    "* Fusión y unión de conjuntos de datos\n",
    "* Indexación de ejes jerárquicos para trabajar con datos de alta dimensión en una estructura de datos de menor dimensión\n",
    "* Funcionalidad de serie temporal: generación de rango de fechas y conversión de frecuencia, estadísticas de ventana móvil, regresiones lineales de ventana móvil, cambio de fecha y retraso\n",
    "\n",
    "La biblioteca está altamente optimizada para el rendimiento, con rutas de código críticas escritas en Cython o C."
   ]
  },
  {
   "cell_type": "code",
   "execution_count": null,
   "id": "74def516",
   "metadata": {},
   "outputs": [],
   "source": [
    "edad = pd.Series([10,20,14,11])\n",
    "edad"
   ]
  },
  {
   "cell_type": "code",
   "execution_count": null,
   "id": "04fd704f",
   "metadata": {},
   "outputs": [],
   "source": [
    "bacteria = pd.Series([10,20,14,11], index = ['a','b','c','d'])\n",
    "bacteria"
   ]
  },
  {
   "cell_type": "code",
   "execution_count": null,
   "id": "ccc0f9fd",
   "metadata": {},
   "outputs": [],
   "source": [
    "bacteria.values, bacteria.index"
   ]
  },
  {
   "cell_type": "code",
   "execution_count": null,
   "id": "4d832cca",
   "metadata": {},
   "outputs": [],
   "source": [
    "bacteria_dict = {'a':10, 'b':20,'c':14,'d':11}"
   ]
  },
  {
   "cell_type": "code",
   "execution_count": null,
   "id": "48a510d4",
   "metadata": {},
   "outputs": [],
   "source": [
    "pd.Series(bacteria_dict)"
   ]
  },
  {
   "cell_type": "code",
   "execution_count": null,
   "id": "809e58cf",
   "metadata": {},
   "outputs": [],
   "source": [
    "bacteria.describe()"
   ]
  },
  {
   "cell_type": "code",
   "execution_count": null,
   "id": "c58ef6c5",
   "metadata": {},
   "outputs": [],
   "source": [
    "data = np.array([['','Col1','Col2'],['Fila1',11,22],['Fila2',33,44]])\n",
    "data"
   ]
  },
  {
   "cell_type": "code",
   "execution_count": null,
   "id": "5f689b8d",
   "metadata": {},
   "outputs": [],
   "source": [
    "df = pd.DataFrame(data = data[1:,1:], index = data[1:,0],columns = data[0,1:])\n",
    "df"
   ]
  },
  {
   "cell_type": "code",
   "execution_count": null,
   "id": "b4eb90a9",
   "metadata": {},
   "outputs": [],
   "source": [
    "df.shape"
   ]
  },
  {
   "cell_type": "code",
   "execution_count": null,
   "id": "82bbadf5",
   "metadata": {},
   "outputs": [],
   "source": [
    "df.describe()"
   ]
  },
  {
   "cell_type": "code",
   "execution_count": null,
   "id": "e6c65543",
   "metadata": {},
   "outputs": [],
   "source": [
    "df.mean()"
   ]
  },
  {
   "cell_type": "markdown",
   "id": "66cda80a",
   "metadata": {},
   "source": [
    "### Datos del Titanic"
   ]
  },
  {
   "cell_type": "code",
   "execution_count": null,
   "id": "c6caaee0",
   "metadata": {},
   "outputs": [],
   "source": [
    "titanic = pd.read_csv('./Archives/titanic.csv')"
   ]
  },
  {
   "cell_type": "code",
   "execution_count": null,
   "id": "bd021f89",
   "metadata": {},
   "outputs": [],
   "source": [
    "len(titanic)"
   ]
  },
  {
   "cell_type": "code",
   "execution_count": null,
   "id": "1ff1bc99",
   "metadata": {},
   "outputs": [],
   "source": [
    "titanic.head()"
   ]
  },
  {
   "cell_type": "code",
   "execution_count": null,
   "id": "65c092eb",
   "metadata": {},
   "outputs": [],
   "source": [
    "titanic.describe()"
   ]
  },
  {
   "cell_type": "code",
   "execution_count": null,
   "id": "904c47b6",
   "metadata": {},
   "outputs": [],
   "source": [
    "titanic.dtypes"
   ]
  },
  {
   "cell_type": "code",
   "execution_count": null,
   "id": "50da012e",
   "metadata": {},
   "outputs": [],
   "source": [
    "titanic['Sex'].value_counts()"
   ]
  },
  {
   "cell_type": "code",
   "execution_count": null,
   "id": "bc152c38",
   "metadata": {},
   "outputs": [],
   "source": [
    "titanic.isnull().sum()"
   ]
  },
  {
   "cell_type": "code",
   "execution_count": null,
   "id": "e1719bff",
   "metadata": {},
   "outputs": [],
   "source": [
    "df1 = pd.read_csv('./Archives/titanic.csv', usecols = ['PassengerId', 'Survived','Pclass','Sex'])\n",
    "df1.head()"
   ]
  },
  {
   "cell_type": "code",
   "execution_count": null,
   "id": "f431aff1",
   "metadata": {},
   "outputs": [],
   "source": [
    "df1 = df1.sort_values('Pclass', ascending = False)\n",
    "df1"
   ]
  },
  {
   "cell_type": "code",
   "execution_count": null,
   "id": "bab32ae3",
   "metadata": {},
   "outputs": [],
   "source": [
    "df1.hist('Survived', by = 'Pclass', grid = 'False', layout = [1,3], figsize = [10,3])\n",
    "df1.hist('Survived', by = 'Sex', grid = 'False', layout = [1,3], figsize = [10,3])"
   ]
  },
  {
   "cell_type": "code",
   "execution_count": null,
   "id": "af1467f4",
   "metadata": {},
   "outputs": [],
   "source": []
  }
 ],
 "metadata": {
  "kernelspec": {
   "display_name": "Python 3 (ipykernel)",
   "language": "python",
   "name": "python3"
  },
  "language_info": {
   "codemirror_mode": {
    "name": "ipython",
    "version": 3
   },
   "file_extension": ".py",
   "mimetype": "text/x-python",
   "name": "python",
   "nbconvert_exporter": "python",
   "pygments_lexer": "ipython3",
   "version": "3.9.12"
  }
 },
 "nbformat": 4,
 "nbformat_minor": 5
}
